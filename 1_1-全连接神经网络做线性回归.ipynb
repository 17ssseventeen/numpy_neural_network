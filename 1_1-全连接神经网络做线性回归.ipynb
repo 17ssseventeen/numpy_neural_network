{
 "cells": [
  {
   "cell_type": "markdown",
   "metadata": {},
   "source": [
    "## 一、定义前向、后向传播\n",
    "\n",
    "本文将用numpy实现全连接层的前向过程和反向过程，并使用一个线性回归作为例子进行测试；\n",
    "\n",
    "如果对神经网络的反向传播过程还有不清楚的，可以[0_1-全连接层、损失函数的反向传播](0_1-全连接层、损失函数的反向传播.md)\n"
   ]
  },
  {
   "cell_type": "code",
   "execution_count": 44,
   "metadata": {
    "collapsed": true
   },
   "outputs": [],
   "source": [
    "import numpy as np\n",
    "\n",
    "def fc_forword(z, W, b):\n",
    "    \"\"\"\n",
    "    全连接层的前向传播\n",
    "    :param z: 当前层的输出\n",
    "    :param W: 当前层的权重\n",
    "    :param b: 当前层的偏置\n",
    "    :return: 下一层的输出\n",
    "    \"\"\"\n",
    "    return np.dot(z, W) + b\n",
    "\n",
    "\n",
    "def fc_backword(next_dz, W, z):\n",
    "    \"\"\"\n",
    "    全连接层的反向传播\n",
    "    :param next_dz: 下一层的梯度\n",
    "    :param W: 当前层的权重\n",
    "    :param z: 当前层的输出\n",
    "    :return:\n",
    "    \"\"\"\n",
    "    dz = np.dot(next_dz, W.T)  # 当前层的梯度\n",
    "    dw = np.dot(z.T, next_dz)  # 当前层权重的梯度\n",
    "    db = np.sum(next_dz,axis=0)  # 当前层偏置的梯度\n",
    "    return dw, db, dz"
   ]
  },
  {
   "cell_type": "markdown",
   "metadata": {},
   "source": [
    "## 二、定义损失函数"
   ]
  },
  {
   "cell_type": "code",
   "execution_count": 45,
   "metadata": {
    "collapsed": true
   },
   "outputs": [],
   "source": [
    "def mean_squared_loss(y_predict,y_true):\n",
    "    \"\"\"\n",
    "    均方误差损失函数\n",
    "    :param y_predict: 预测值,shape (N,d)，N为批量样本数\n",
    "    :param y_true: 真实值\n",
    "    :return:\n",
    "    \"\"\"\n",
    "    loss = np.mean(np.sum(np.square(y_predict-y_true),axis=-1))  # 损失函数值\n",
    "    dy = y_predict - y_true  # 损失函数关于网络输出的梯度\n",
    "    return loss, dy"
   ]
  },
  {
   "cell_type": "markdown",
   "metadata": {},
   "source": [
    "## 三、初始化数据"
   ]
  },
  {
   "cell_type": "code",
   "execution_count": 46,
   "metadata": {},
   "outputs": [
    {
     "name": "stdout",
     "output_type": "stream",
     "text": [
      "x.shape:(500, 2),y.shape:(500, 3)\n"
     ]
    }
   ],
   "source": [
    "\n",
    "# 实际的权重和偏置\n",
    "W = np.array([[3,7,4],\n",
    "              [5,2,6]])\n",
    "b = np.array([2,9,3])\n",
    "\n",
    "# 产生训练样本\n",
    "x_data = np.random.randint(0,10,1000).reshape(500,2)\n",
    "y_data = np.dot(x_data,W)+b\n",
    "\n",
    "def next_sample(batch_size=1):\n",
    "    idx=np.random.randint(500)\n",
    "    return x_data[idx:idx+batch_size],y_data[idx:idx+batch_size]\n",
    "\n",
    "print(\"x.shape:{},y.shape:{}\".format(x_data.shape,y_data.shape))"
   ]
  },
  {
   "cell_type": "markdown",
   "metadata": {},
   "source": [
    "## 四、定义网络、使用SGD训练"
   ]
  },
  {
   "cell_type": "code",
   "execution_count": 47,
   "metadata": {
    "scrolled": true
   },
   "outputs": [
    {
     "name": "stdout",
     "output_type": "stream",
     "text": [
      "\n",
      "迭代1000次，当前loss:6.71641270857867e-05, 当前权重:[[2.99972146 6.99852611 3.99961782]\n",
      " [4.99974163 1.99863279 5.99964548]],当前偏置[1.9993671  8.99665095 2.99913158]\n",
      "\n",
      "迭代2000次，当前loss:8.195215410674745e-11, 当前权重:[[2.99999978 6.99999886 3.9999997 ]\n",
      " [4.99999964 1.99999812 5.99999951]],当前偏置[2.00000169 9.00000895 3.00000232]\n",
      "\n",
      "迭代3000次，当前loss:4.597838908503367e-18, 当前权重:[[3. 7. 4.]\n",
      " [5. 2. 6.]],当前偏置[2. 9. 3.]\n",
      "\n",
      "迭代3203次，当前loss:6.042941525544044e-21, 当前权重:[[3. 7. 4.]\n",
      " [5. 2. 6.]],当前偏置[2. 9. 3.]\n"
     ]
    }
   ],
   "source": [
    "# 随机初始化参数\n",
    "W1 = np.random.randn(2,3)\n",
    "b1 = np.zeros([3])\n",
    "loss = 100.0\n",
    "lr = 0.01\n",
    "i = 0 \n",
    "\n",
    "while loss > 1e-20:\n",
    "    x,y_true=next_sample(4)  # 获取当前样本\n",
    "    # 前向传播\n",
    "    y = fc_forword(x,W1,b1)\n",
    "    # 反向传播更新梯度\n",
    "    loss,dy=mean_squared_loss(y,y_true)\n",
    "    dw,db,_ = fc_backword(dy,W,x)\n",
    "    \n",
    "    # 在一个batch中梯度取均值\n",
    "    #print(dw)\n",
    "    \n",
    "    # 更新梯度\n",
    "    W1 -= lr*dw\n",
    "    b1 -= lr*db\n",
    "    \n",
    "    # 更新迭代次数\n",
    "    i += 1\n",
    "    if i % 1000 == 0:\n",
    "        print(\"\\n迭代{}次，当前loss:{}, 当前权重:{},当前偏置{}\".format(i,loss,W1,b1))   \n",
    "\n",
    "# 打印最终结果\n",
    "print(\"\\n迭代{}次，当前loss:{}, 当前权重:{},当前偏置{}\".format(i,loss,W1,b1))  "
   ]
  },
  {
   "cell_type": "code",
   "execution_count": 48,
   "metadata": {},
   "outputs": [
    {
     "name": "stdout",
     "output_type": "stream",
     "text": [
      "W1==W: True \n",
      "b1=b:  True\n"
     ]
    }
   ],
   "source": [
    "print(\"W1==W: {} \\nb1=b:  {}\".format(np.allclose(W1,W),np.allclose(b1,b)))"
   ]
  }
 ],
 "metadata": {
  "kernelspec": {
   "display_name": "Python 3",
   "language": "python",
   "name": "python3"
  },
  "language_info": {
   "codemirror_mode": {
    "name": "ipython",
    "version": 3
   },
   "file_extension": ".py",
   "mimetype": "text/x-python",
   "name": "python",
   "nbconvert_exporter": "python",
   "pygments_lexer": "ipython3",
   "version": "3.6.4"
  }
 },
 "nbformat": 4,
 "nbformat_minor": 2
}
